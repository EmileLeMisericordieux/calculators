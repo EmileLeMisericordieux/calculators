test = "this is a notebook"
